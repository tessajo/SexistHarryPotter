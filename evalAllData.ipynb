version https://git-lfs.github.com/spec/v1
oid sha256:4969ae07d871b9a42433f3a77d5c9e6db720a626c1e3a9e2bd709339d85d7850
size 59555
