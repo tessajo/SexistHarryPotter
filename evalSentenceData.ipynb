version https://git-lfs.github.com/spec/v1
oid sha256:7d508d7b7cb1921dda908a367ca4b769c98b0d829694429b1830ea5e886a38e2
size 174080
