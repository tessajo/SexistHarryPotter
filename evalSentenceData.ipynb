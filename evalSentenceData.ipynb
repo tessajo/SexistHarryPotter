{
 "cells": [
  {
   "cell_type": "code",
   "execution_count": 7,
   "source": [
    "import os\r\n",
    "import nltk, string\r\n",
    "from nltk.corpus import stopwords\r\n",
    "from nltk.util import ngrams"
   ],
   "outputs": [],
   "metadata": {}
  },
  {
   "cell_type": "code",
   "execution_count": 8,
   "source": [
    "punct = ['“','”','–','’','‘','—']\r\n",
    "# Statistischee Analysen gesamter Text\r\n",
    "with open(os.path.join('Data','RESULTS','sentenceswithnames.txt'),'r',encoding='utf-8') as f:\r\n",
    "    content = f.read()\r\n",
    "# Anzahl Sätze\r\n",
    "sents = nltk.sent_tokenize(content)\r\n",
    "amSents = len(sents)\r\n",
    "# Anzahl Worte\r\n",
    "words = nltk.word_tokenize(content)\r\n",
    "amWords = len(words)\r\n",
    "# Durchschnittliche Anzahl Worte / Satz\r\n",
    "avgWordsperSents = amWords/amSents\r\n",
    "print('Durschnittliche Anzahl Worte pro Satz',avgWordsperSents,'\\nAnzahl Worte gesamt',amWords,'\\nAnzahl Sätze gesamt',amSents)"
   ],
   "outputs": [
    {
     "output_type": "stream",
     "name": "stdout",
     "text": [
      "Durschnittliche Anzahl Worte pro Satz 51.979431336963096 \n",
      "Anzahl Worte gesamt 85922 \n",
      "Anzahl Sätze gesamt 1653\n"
     ]
    }
   ],
   "metadata": {}
  },
  {
   "cell_type": "code",
   "execution_count": 9,
   "source": [
    "# Stopwörter entfernen\r\n",
    "stop_words = set(stopwords.words('english'))\r\n",
    "\r\n",
    "# n-Grame initialisieren\r\n",
    "unigram = [] # nur das wort wird beachtet\r\n",
    "bigram = [] # Kontext (2 Worte) wird beachtet\r\n",
    "trigram = []\r\n",
    "fourgram = []\r\n",
    "tengram = []\r\n",
    "# Tokenisierter Text\r\n",
    "toktext = []\r\n",
    "\r\n",
    "# Satz für Satz evaluieren\r\n",
    "for sentence in sents:\r\n",
    "    sentence = ''.join([char for char in sentence if (char not in string.punctuation) and (char not in punct)])\r\n",
    "    sentence = sentence.lower()\r\n",
    "    sequence = nltk.word_tokenize(sentence)\r\n",
    "    for word in sequence:\r\n",
    "        unigram.append(word)\r\n",
    "    toktext.append(sequence)\r\n",
    "# Stopworte entfernen \r\n",
    "unigram = [p for p in unigram if p not in stop_words]\r\n",
    "# n-Grame erstellen \r\n",
    "bigram.extend(list(ngrams(unigram, 2)))\r\n",
    "trigram.extend(list(ngrams(unigram, 3)))\r\n",
    "fourgram.extend(list(ngrams(unigram, 4)))\r\n",
    "tengram.extend(list(ngrams(unigram, 10)))\r\n",
    "\r\n",
    "def removal(x):\r\n",
    "    res = []\r\n",
    "    for pair in x:\r\n",
    "        count = 0\r\n",
    "        for word in pair:\r\n",
    "            if word in stop_words:\r\n",
    "                count = count or 0\r\n",
    "            else:\r\n",
    "                count = count or 1\r\n",
    "        if (count)==1:\r\n",
    "            res.append(pair)\r\n",
    "    return res\r\n",
    "\r\n",
    "bigram = removal(bigram)\r\n",
    "trigram = removal(trigram)\r\n",
    "fourgram = removal(fourgram)\r\n",
    "tengram = removal(tengram)\r\n",
    "\r\n",
    "freq_bi = nltk.FreqDist(bigram)\r\n",
    "freq_tri = nltk.FreqDist(trigram)\r\n",
    "freq_four = nltk.FreqDist(fourgram)\r\n",
    "freq_ten = nltk.FreqDist(tengram)\r\n",
    "\r\n",
    "print('freq_bi',freq_bi.most_common(10),'\\n')\r\n",
    "print('freq_tri',freq_tri.most_common(10),'\\n')\r\n",
    "print('freq_four',freq_four.most_common(10),'\\n')\r\n",
    "print('freq_ten',freq_ten.most_common(10),'\\n')"
   ],
   "outputs": [
    {
     "output_type": "stream",
     "name": "stdout",
     "text": [
      "freq_bi [(('harry', 'never'), 308), (('said', 'harry'), 200), (('never', 'seen'), 172), (('would', 'never'), 104), (('harry', 'tter'), 84), (('never', 'heard'), 82), (('hagrid', 'rid'), 62), (('harry', 'uld'), 61), (('voldemort', 'demort'), 48), (('snape', 'ape'), 46)] \n",
      "\n",
      "freq_tri [(('harry', 'never', 'seen'), 104), (('harry', 'never', 'heard'), 36), (('harry', 'tter', 'sorcerers'), 18), (('tter', 'sorcerers', 'stone'), 18), (('never', 'seen', 'anything'), 16), (('hagrid', 'rid', 'never'), 14), (('1', 'harry', 'tter'), 12), (('hp', '1', 'harry'), 12), (('would', 'never', 'ever'), 12), (('harry', 'never', 'met'), 12)] \n",
      "\n",
      "freq_four [(('harry', 'tter', 'sorcerers', 'stone'), 18), (('1', 'harry', 'tter', 'sorcerers'), 12), (('harry', 'never', 'seen', 'anything'), 12), (('harry', 'ew', 'would', 'never'), 12), (('hp', '1', 'harry', 'tter'), 9), (('never', 'told', 'ron', 'hermione'), 8), (('harry', 'never', 'seen', 'man'), 8), (('fire', 'harry', 'never', 'seen'), 8), (('defense', 'dark', 'arts', 'teacher'), 8), (('peeves', 'harry', 'never', 'seen'), 8)] \n",
      "\n",
      "freq_ten [(('peeves', 'harry', 'never', 'seen', 'take', 'order', 'student', 'swept', 'belled', 'hat'), 8), (('harry', 'never', 'seen', 'take', 'order', 'student', 'swept', 'belled', 'hat', 'head'), 8), (('never', 'seen', 'take', 'order', 'student', 'swept', 'belled', 'hat', 'head', 'sprang'), 8), (('seen', 'take', 'order', 'student', 'swept', 'belled', 'hat', 'head', 'sprang', 'salute'), 8), (('take', 'order', 'student', 'swept', 'belled', 'hat', 'head', 'sprang', 'salute', 'fred'), 8), (('order', 'student', 'swept', 'belled', 'hat', 'head', 'sprang', 'salute', 'fred', 'george'), 8), (('student', 'swept', 'belled', 'hat', 'head', 'sprang', 'salute', 'fred', 'george', 'wheeled'), 8), (('swept', 'belled', 'hat', 'head', 'sprang', 'salute', 'fred', 'george', 'wheeled', 'tumultuous'), 8), (('belled', 'hat', 'head', 'sprang', 'salute', 'fred', 'george', 'wheeled', 'tumultuous', 'applause'), 8), (('hat', 'head', 'sprang', 'salute', 'fred', 'george', 'wheeled', 'tumultuous', 'applause', 'students'), 8)] \n",
      "\n"
     ]
    }
   ],
   "metadata": {}
  }
 ],
 "metadata": {
  "orig_nbformat": 4,
  "language_info": {
   "name": "python",
   "version": "3.9.6",
   "mimetype": "text/x-python",
   "codemirror_mode": {
    "name": "ipython",
    "version": 3
   },
   "pygments_lexer": "ipython3",
   "nbconvert_exporter": "python",
   "file_extension": ".py"
  },
  "kernelspec": {
   "name": "python3",
   "display_name": "Python 3.9.6 64-bit (windows store)"
  },
  "interpreter": {
   "hash": "24d3916f4a9f8bbe764819496dcbc51ff6063af5fca03b7fe0f93e0003d125b6"
  }
 },
 "nbformat": 4,
 "nbformat_minor": 2
}