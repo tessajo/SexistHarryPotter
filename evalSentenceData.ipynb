version https://git-lfs.github.com/spec/v1
oid sha256:1cedabcc4223b875c23bb4b7b5d3845546356d05c6be04552e9b4be257650cfe
size 339279
