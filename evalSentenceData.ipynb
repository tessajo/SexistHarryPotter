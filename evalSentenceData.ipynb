version https://git-lfs.github.com/spec/v1
oid sha256:9e7c3b4badd47944cd024b0ed19d9cede9cdf997e560fa2b9838de57e55f00cf
size 1959968
