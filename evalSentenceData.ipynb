version https://git-lfs.github.com/spec/v1
oid sha256:4b513d05cc1214e185923e002b032a11786add4f97355b44cef425cc2f7a5469
size 445537
