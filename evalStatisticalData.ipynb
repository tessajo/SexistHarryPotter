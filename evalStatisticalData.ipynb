{
 "metadata": {
  "language_info": {
   "codemirror_mode": {
    "name": "ipython",
    "version": 3
   },
   "file_extension": ".py",
   "mimetype": "text/x-python",
   "name": "python",
   "nbconvert_exporter": "python",
   "pygments_lexer": "ipython3",
   "version": 3
  },
  "orig_nbformat": 4
 },
 "nbformat": 4,
 "nbformat_minor": 2,
 "cells": [
  {
   "cell_type": "code",
   "execution_count": null,
   "source": [
    "import os\r\n",
    "import DataExtraction as de\r\n",
    "from textblob_de import TextBlobDE as tb\r\n",
    "from nltk.corpus import stopwords\r\n",
    "\r\n"
   ],
   "outputs": [],
   "metadata": {}
  },
  {
   "cell_type": "code",
   "execution_count": null,
   "source": [
    "# Statistische Analysen Sätze mit Namen\r\n",
    "with open(os.path.join('Data','REFINED','sentences.txt'),'r',encoding='utf-8') as f:\r\n",
    "    sentences = f.readlines()\r\n",
    "len(sentences)"
   ],
   "outputs": [],
   "metadata": {}
  },
  {
   "cell_type": "code",
   "execution_count": null,
   "source": [
    "# Statistischee Analysen gesamter Text\r\n",
    "with open(os.path.join('Data','REFINED','master.txt'),'r',encoding='utf-8') as f:\r\n",
    "    content = f.read()\r\n",
    "# Anzahl Sätze\r\n",
    "sents = f.sent_tokenize(content)\r\n",
    "amSents = len(sents)\r\n",
    "# Anzahl Worte\r\n",
    "words = f.word_tokenize(content)\r\n",
    "amWords = len(words)\r\n",
    "# Durchschnittliche Anzahl Worte / Satz\r\n",
    "avgWordsperSents = amWords/amSents"
   ],
   "outputs": [],
   "metadata": {}
  },
  {
   "cell_type": "code",
   "execution_count": null,
   "source": [
    "# Stopwörter entfernen\r\n",
    "stop_words = set(stopwords.words('english'))\r\n",
    "\r\n",
    "# TODO Machine Learning Model "
   ],
   "outputs": [],
   "metadata": {}
  }
 ]
}