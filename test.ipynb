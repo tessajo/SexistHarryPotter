{
 "cells": [
  {
   "cell_type": "code",
   "execution_count": null,
   "metadata": {},
   "outputs": [],
   "source": [
    "all\n",
    "female\n",
    "male"
   ]
  },
  {
   "cell_type": "code",
   "execution_count": null,
   "metadata": {},
   "outputs": [],
   "source": [
    "#attribute assortativity coefficient: -1.0\n",
    "attribute assortativity coefficient: -1.0\n",
    "attribute assortativity coefficient: -1.0"
   ]
  },
  {
   "cell_type": "code",
   "execution_count": null,
   "metadata": {},
   "outputs": [],
   "source": [
    "degree assortativity coefficient: -0.4562783659677931\n",
    "degree assortativity coefficient: -0.5247131439843365\n",
    "degree assortativity coefficient: -0.4148059263547138"
   ]
  },
  {
   "cell_type": "code",
   "execution_count": null,
   "metadata": {},
   "outputs": [],
   "source": [
    "Diameter: 6\n",
    "Diameter: 7\n",
    "Diameter: 6"
   ]
  },
  {
   "cell_type": "code",
   "execution_count": null,
   "metadata": {},
   "outputs": [],
   "source": [
    "\n",
    "all: 7199 female: 1044  sim: 729\n",
    "all: 7199 male: 2203 sim: 2019\n",
    "female: 1044 male: 2203 sim: 148\n",
    "\n",
    "Similarity between network of all character names and network of female character names: 9.701889805696034\n",
    "Similarity between network of all character names and network of female character names: 27.346607070296624\n",
    "Similarity between network of all character names and network of female character names: 4.775734107776702\n",
    "\n",
    "Number of Cliques per graph: 7199\n",
    "Number of Cliques per graph: 1044\n",
    "Number of Cliques per graph: 2203"
   ]
  },
  {
   "cell_type": "code",
   "execution_count": null,
   "metadata": {},
   "outputs": [],
   "source": [
    "Edge connectitvity: 1\n",
    "Edge connectitvity: 1\n",
    "Edge connectitvity: 1\n",
    "--> ergibt sich aus dem Aufbau des Netzwerks: Nur Vernetzung zwischen Name und Adverb/Adjektiv und keine Vernetzung untereinander, die eine längere Verkettung begünstigt"
   ]
  },
  {
   "cell_type": "code",
   "execution_count": null,
   "metadata": {},
   "outputs": [],
   "source": [
    "Durchschnittliche Anzahl Worte pro Satz 4.609774132831406 \n",
    "Anzahl Worte gesamt 205725 \n",
    "Anzahl Sätze gesamt 44628"
   ]
  }
 ],
 "metadata": {
  "language_info": {
   "name": "plaintext"
  },
  "orig_nbformat": 4
 },
 "nbformat": 4,
 "nbformat_minor": 2
}
